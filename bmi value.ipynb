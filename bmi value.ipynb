{
 "cells": [
  {
   "cell_type": "code",
   "execution_count": 1,
   "id": "2a2340ba",
   "metadata": {},
   "outputs": [],
   "source": [
    "#bmivalue"
   ]
  },
  {
   "cell_type": "code",
   "execution_count": 5,
   "id": "294092ee",
   "metadata": {},
   "outputs": [
    {
     "name": "stdout",
     "output_type": "stream",
     "text": [
      "enter the BMI index:18\n",
      "under weight\n"
     ]
    }
   ],
   "source": [
    "Bmi_value =float(input(\"enter the BMI index:\"))\n",
    "if(18.5>Bmi_value):\n",
    "    print(\"under weight\")\n",
    "elif(18.5<=Bmi_value<=24.9):\n",
    "    print(\"normal\")\n",
    "elif(25<=Bmivalue<=29.9):\n",
    "    print(\"over weight\")\n",
    "elif(30<=Bmi_value<=34.9):\n",
    "    print(\"obisity class1\")\n",
    "elif(35<=Bmi_value<=39.9):\n",
    "    print(\"obisity class 2\")\n",
    "else:\n",
    "    print(\"obisity class 3\")"
   ]
  },
  {
   "cell_type": "code",
   "execution_count": null,
   "id": "698f1a1f",
   "metadata": {},
   "outputs": [],
   "source": []
  }
 ],
 "metadata": {
  "kernelspec": {
   "display_name": "Python 3 (ipykernel)",
   "language": "python",
   "name": "python3"
  },
  "language_info": {
   "codemirror_mode": {
    "name": "ipython",
    "version": 3
   },
   "file_extension": ".py",
   "mimetype": "text/x-python",
   "name": "python",
   "nbconvert_exporter": "python",
   "pygments_lexer": "ipython3",
   "version": "3.11.5"
  }
 },
 "nbformat": 4,
 "nbformat_minor": 5
}
