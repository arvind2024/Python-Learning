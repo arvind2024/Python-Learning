{
 "cells": [
  {
   "cell_type": "code",
   "execution_count": 1,
   "id": "e27b8bb1",
   "metadata": {},
   "outputs": [],
   "source": [
    "#control_structure"
   ]
  },
  {
   "cell_type": "code",
   "execution_count": 3,
   "id": "e4f5dd38",
   "metadata": {},
   "outputs": [],
   "source": [
    "#if_condition"
   ]
  },
  {
   "cell_type": "code",
   "execution_count": 5,
   "id": "ab7db3b0",
   "metadata": {},
   "outputs": [
    {
     "name": "stdout",
     "output_type": "stream",
     "text": [
      "ebter number1:38\n",
      "the number1 is smaller than 50\n"
     ]
    }
   ],
   "source": [
    "number1=int(input(\"ebter number1:\"))\n",
    "if(number1>50):\n",
    "    print(\"the number1 is bigger than 50\")\n",
    "else:\n",
    "    print(\"the number1 is smaller than 50\")"
   ]
  },
  {
   "cell_type": "markdown",
   "id": "4387ad2f",
   "metadata": {},
   "source": []
  },
  {
   "cell_type": "code",
   "execution_count": 6,
   "id": "e9716479",
   "metadata": {},
   "outputs": [
    {
     "name": "stdout",
     "output_type": "stream",
     "text": [
      "enter number2:56\n",
      "enter number3:45\n",
      "the number2 bigger than number3\n"
     ]
    }
   ],
   "source": [
    "number2=int(input(\"enter number2:\"))\n",
    "number3=int(input(\"enter number3:\"))\n",
    "if(number2>number3):\n",
    "    print(\"the number2 bigger than number3\")\n",
    "else:\n",
    "    print(\"the number2 smaller than number3\")"
   ]
  },
  {
   "cell_type": "code",
   "execution_count": 7,
   "id": "83dfefb6",
   "metadata": {},
   "outputs": [],
   "source": [
    "#if_elif"
   ]
  },
  {
   "cell_type": "code",
   "execution_count": 10,
   "id": "63ee7bd3",
   "metadata": {
    "scrolled": true
   },
   "outputs": [
    {
     "name": "stdout",
     "output_type": "stream",
     "text": [
      "enter number4:55\n",
      "enter number5:56\n",
      "the number4 is smaller than number5\n"
     ]
    }
   ],
   "source": [
    "number4=int(input(\"enter number4:\"))\n",
    "number5=int(input(\"enter number5:\"))\n",
    "if(number4>number5):\n",
    "     print(\"the number4 is bigger than number5\")\n",
    "elif(number4==number5):\n",
    "     print(\"number4 and number5 are equal\")\n",
    "else:\n",
    "     print(\"the number4 is smaller than number5\")"
   ]
  },
  {
   "cell_type": "code",
   "execution_count": null,
   "id": "4c226dd4",
   "metadata": {},
   "outputs": [],
   "source": []
  },
  {
   "cell_type": "code",
   "execution_count": null,
   "id": "1f47d485",
   "metadata": {},
   "outputs": [],
   "source": []
  },
  {
   "cell_type": "code",
   "execution_count": null,
   "id": "2cd3529a",
   "metadata": {},
   "outputs": [],
   "source": []
  }
 ],
 "metadata": {
  "kernelspec": {
   "display_name": "Python 3 (ipykernel)",
   "language": "python",
   "name": "python3"
  },
  "language_info": {
   "codemirror_mode": {
    "name": "ipython",
    "version": 3
   },
   "file_extension": ".py",
   "mimetype": "text/x-python",
   "name": "python",
   "nbconvert_exporter": "python",
   "pygments_lexer": "ipython3",
   "version": "3.11.5"
  }
 },
 "nbformat": 4,
 "nbformat_minor": 5
}
