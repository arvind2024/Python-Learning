{
 "cells": [
  {
   "cell_type": "code",
   "execution_count": 29,
   "id": "4d27154a",
   "metadata": {},
   "outputs": [],
   "source": [
    "import pandas as pd"
   ]
  },
  {
   "cell_type": "code",
   "execution_count": 30,
   "id": "b2c647c5",
   "metadata": {},
   "outputs": [],
   "source": [
    "dataset=pd.read_csv(\"50_Startups.csv\")"
   ]
  },
  {
   "cell_type": "code",
   "execution_count": 31,
   "id": "10df1fed",
   "metadata": {},
   "outputs": [
    {
     "data": {
      "text/html": [
       "<div>\n",
       "<style scoped>\n",
       "    .dataframe tbody tr th:only-of-type {\n",
       "        vertical-align: middle;\n",
       "    }\n",
       "\n",
       "    .dataframe tbody tr th {\n",
       "        vertical-align: top;\n",
       "    }\n",
       "\n",
       "    .dataframe thead th {\n",
       "        text-align: right;\n",
       "    }\n",
       "</style>\n",
       "<table border=\"1\" class=\"dataframe\">\n",
       "  <thead>\n",
       "    <tr style=\"text-align: right;\">\n",
       "      <th></th>\n",
       "      <th>R&amp;D Spend</th>\n",
       "      <th>Administration</th>\n",
       "      <th>Marketing Spend</th>\n",
       "      <th>State</th>\n",
       "      <th>Profit</th>\n",
       "    </tr>\n",
       "  </thead>\n",
       "  <tbody>\n",
       "    <tr>\n",
       "      <th>0</th>\n",
       "      <td>165349.20</td>\n",
       "      <td>136897.80</td>\n",
       "      <td>471784.10</td>\n",
       "      <td>New York</td>\n",
       "      <td>192261.83</td>\n",
       "    </tr>\n",
       "    <tr>\n",
       "      <th>1</th>\n",
       "      <td>162597.70</td>\n",
       "      <td>151377.59</td>\n",
       "      <td>443898.53</td>\n",
       "      <td>California</td>\n",
       "      <td>191792.06</td>\n",
       "    </tr>\n",
       "    <tr>\n",
       "      <th>2</th>\n",
       "      <td>153441.51</td>\n",
       "      <td>101145.55</td>\n",
       "      <td>407934.54</td>\n",
       "      <td>Florida</td>\n",
       "      <td>191050.39</td>\n",
       "    </tr>\n",
       "    <tr>\n",
       "      <th>3</th>\n",
       "      <td>144372.41</td>\n",
       "      <td>118671.85</td>\n",
       "      <td>383199.62</td>\n",
       "      <td>New York</td>\n",
       "      <td>182901.99</td>\n",
       "    </tr>\n",
       "    <tr>\n",
       "      <th>4</th>\n",
       "      <td>142107.34</td>\n",
       "      <td>91391.77</td>\n",
       "      <td>366168.42</td>\n",
       "      <td>Florida</td>\n",
       "      <td>166187.94</td>\n",
       "    </tr>\n",
       "  </tbody>\n",
       "</table>\n",
       "</div>"
      ],
      "text/plain": [
       "   R&D Spend  Administration  Marketing Spend       State     Profit\n",
       "0  165349.20       136897.80        471784.10    New York  192261.83\n",
       "1  162597.70       151377.59        443898.53  California  191792.06\n",
       "2  153441.51       101145.55        407934.54     Florida  191050.39\n",
       "3  144372.41       118671.85        383199.62    New York  182901.99\n",
       "4  142107.34        91391.77        366168.42     Florida  166187.94"
      ]
     },
     "execution_count": 31,
     "metadata": {},
     "output_type": "execute_result"
    }
   ],
   "source": [
    "dataset. head()"
   ]
  },
  {
   "cell_type": "code",
   "execution_count": 32,
   "id": "46520144",
   "metadata": {},
   "outputs": [],
   "source": [
    "dataset=pd.get_dummies(dataset,drop_first=True)"
   ]
  },
  {
   "cell_type": "code",
   "execution_count": 33,
   "id": "c8abd271",
   "metadata": {},
   "outputs": [],
   "source": [
    "dataset=dataset.astype(int)"
   ]
  },
  {
   "cell_type": "code",
   "execution_count": 34,
   "id": "471be9d3",
   "metadata": {},
   "outputs": [
    {
     "data": {
      "text/html": [
       "<div>\n",
       "<style scoped>\n",
       "    .dataframe tbody tr th:only-of-type {\n",
       "        vertical-align: middle;\n",
       "    }\n",
       "\n",
       "    .dataframe tbody tr th {\n",
       "        vertical-align: top;\n",
       "    }\n",
       "\n",
       "    .dataframe thead th {\n",
       "        text-align: right;\n",
       "    }\n",
       "</style>\n",
       "<table border=\"1\" class=\"dataframe\">\n",
       "  <thead>\n",
       "    <tr style=\"text-align: right;\">\n",
       "      <th></th>\n",
       "      <th>R&amp;D Spend</th>\n",
       "      <th>Administration</th>\n",
       "      <th>Marketing Spend</th>\n",
       "      <th>Profit</th>\n",
       "      <th>State_Florida</th>\n",
       "      <th>State_New York</th>\n",
       "    </tr>\n",
       "  </thead>\n",
       "  <tbody>\n",
       "    <tr>\n",
       "      <th>0</th>\n",
       "      <td>165349</td>\n",
       "      <td>136897</td>\n",
       "      <td>471784</td>\n",
       "      <td>192261</td>\n",
       "      <td>0</td>\n",
       "      <td>1</td>\n",
       "    </tr>\n",
       "    <tr>\n",
       "      <th>1</th>\n",
       "      <td>162597</td>\n",
       "      <td>151377</td>\n",
       "      <td>443898</td>\n",
       "      <td>191792</td>\n",
       "      <td>0</td>\n",
       "      <td>0</td>\n",
       "    </tr>\n",
       "    <tr>\n",
       "      <th>2</th>\n",
       "      <td>153441</td>\n",
       "      <td>101145</td>\n",
       "      <td>407934</td>\n",
       "      <td>191050</td>\n",
       "      <td>1</td>\n",
       "      <td>0</td>\n",
       "    </tr>\n",
       "    <tr>\n",
       "      <th>3</th>\n",
       "      <td>144372</td>\n",
       "      <td>118671</td>\n",
       "      <td>383199</td>\n",
       "      <td>182901</td>\n",
       "      <td>0</td>\n",
       "      <td>1</td>\n",
       "    </tr>\n",
       "    <tr>\n",
       "      <th>4</th>\n",
       "      <td>142107</td>\n",
       "      <td>91391</td>\n",
       "      <td>366168</td>\n",
       "      <td>166187</td>\n",
       "      <td>1</td>\n",
       "      <td>0</td>\n",
       "    </tr>\n",
       "  </tbody>\n",
       "</table>\n",
       "</div>"
      ],
      "text/plain": [
       "   R&D Spend  Administration  Marketing Spend  Profit  State_Florida  \\\n",
       "0     165349          136897           471784  192261              0   \n",
       "1     162597          151377           443898  191792              0   \n",
       "2     153441          101145           407934  191050              1   \n",
       "3     144372          118671           383199  182901              0   \n",
       "4     142107           91391           366168  166187              1   \n",
       "\n",
       "   State_New York  \n",
       "0               1  \n",
       "1               0  \n",
       "2               0  \n",
       "3               1  \n",
       "4               0  "
      ]
     },
     "execution_count": 34,
     "metadata": {},
     "output_type": "execute_result"
    }
   ],
   "source": [
    "dataset. head()"
   ]
  },
  {
   "cell_type": "code",
   "execution_count": 35,
   "id": "69015fc0",
   "metadata": {},
   "outputs": [
    {
     "data": {
      "text/plain": [
       "Index(['R&D Spend', 'Administration', 'Marketing Spend', 'Profit',\n",
       "       'State_Florida', 'State_New York'],\n",
       "      dtype='object')"
      ]
     },
     "execution_count": 35,
     "metadata": {},
     "output_type": "execute_result"
    }
   ],
   "source": [
    "dataset.columns"
   ]
  },
  {
   "cell_type": "code",
   "execution_count": 36,
   "id": "8463c6b6",
   "metadata": {},
   "outputs": [],
   "source": [
    "independend=dataset[['R&D Spend', 'Administration', 'Marketing Spend','State_Florida', 'State_New York']]"
   ]
  },
  {
   "cell_type": "code",
   "execution_count": 37,
   "id": "091ef2a9",
   "metadata": {},
   "outputs": [
    {
     "data": {
      "text/html": [
       "<div>\n",
       "<style scoped>\n",
       "    .dataframe tbody tr th:only-of-type {\n",
       "        vertical-align: middle;\n",
       "    }\n",
       "\n",
       "    .dataframe tbody tr th {\n",
       "        vertical-align: top;\n",
       "    }\n",
       "\n",
       "    .dataframe thead th {\n",
       "        text-align: right;\n",
       "    }\n",
       "</style>\n",
       "<table border=\"1\" class=\"dataframe\">\n",
       "  <thead>\n",
       "    <tr style=\"text-align: right;\">\n",
       "      <th></th>\n",
       "      <th>R&amp;D Spend</th>\n",
       "      <th>Administration</th>\n",
       "      <th>Marketing Spend</th>\n",
       "      <th>State_Florida</th>\n",
       "      <th>State_New York</th>\n",
       "    </tr>\n",
       "  </thead>\n",
       "  <tbody>\n",
       "    <tr>\n",
       "      <th>0</th>\n",
       "      <td>165349</td>\n",
       "      <td>136897</td>\n",
       "      <td>471784</td>\n",
       "      <td>0</td>\n",
       "      <td>1</td>\n",
       "    </tr>\n",
       "    <tr>\n",
       "      <th>1</th>\n",
       "      <td>162597</td>\n",
       "      <td>151377</td>\n",
       "      <td>443898</td>\n",
       "      <td>0</td>\n",
       "      <td>0</td>\n",
       "    </tr>\n",
       "    <tr>\n",
       "      <th>2</th>\n",
       "      <td>153441</td>\n",
       "      <td>101145</td>\n",
       "      <td>407934</td>\n",
       "      <td>1</td>\n",
       "      <td>0</td>\n",
       "    </tr>\n",
       "    <tr>\n",
       "      <th>3</th>\n",
       "      <td>144372</td>\n",
       "      <td>118671</td>\n",
       "      <td>383199</td>\n",
       "      <td>0</td>\n",
       "      <td>1</td>\n",
       "    </tr>\n",
       "    <tr>\n",
       "      <th>4</th>\n",
       "      <td>142107</td>\n",
       "      <td>91391</td>\n",
       "      <td>366168</td>\n",
       "      <td>1</td>\n",
       "      <td>0</td>\n",
       "    </tr>\n",
       "  </tbody>\n",
       "</table>\n",
       "</div>"
      ],
      "text/plain": [
       "   R&D Spend  Administration  Marketing Spend  State_Florida  State_New York\n",
       "0     165349          136897           471784              0               1\n",
       "1     162597          151377           443898              0               0\n",
       "2     153441          101145           407934              1               0\n",
       "3     144372          118671           383199              0               1\n",
       "4     142107           91391           366168              1               0"
      ]
     },
     "execution_count": 37,
     "metadata": {},
     "output_type": "execute_result"
    }
   ],
   "source": [
    "independend.head()"
   ]
  },
  {
   "cell_type": "code",
   "execution_count": 38,
   "id": "b5943ef9",
   "metadata": {},
   "outputs": [],
   "source": [
    "dependend=dataset[['Profit']]"
   ]
  },
  {
   "cell_type": "code",
   "execution_count": 39,
   "id": "e13a84d3",
   "metadata": {},
   "outputs": [
    {
     "data": {
      "text/html": [
       "<div>\n",
       "<style scoped>\n",
       "    .dataframe tbody tr th:only-of-type {\n",
       "        vertical-align: middle;\n",
       "    }\n",
       "\n",
       "    .dataframe tbody tr th {\n",
       "        vertical-align: top;\n",
       "    }\n",
       "\n",
       "    .dataframe thead th {\n",
       "        text-align: right;\n",
       "    }\n",
       "</style>\n",
       "<table border=\"1\" class=\"dataframe\">\n",
       "  <thead>\n",
       "    <tr style=\"text-align: right;\">\n",
       "      <th></th>\n",
       "      <th>Profit</th>\n",
       "    </tr>\n",
       "  </thead>\n",
       "  <tbody>\n",
       "    <tr>\n",
       "      <th>0</th>\n",
       "      <td>192261</td>\n",
       "    </tr>\n",
       "    <tr>\n",
       "      <th>1</th>\n",
       "      <td>191792</td>\n",
       "    </tr>\n",
       "    <tr>\n",
       "      <th>2</th>\n",
       "      <td>191050</td>\n",
       "    </tr>\n",
       "    <tr>\n",
       "      <th>3</th>\n",
       "      <td>182901</td>\n",
       "    </tr>\n",
       "    <tr>\n",
       "      <th>4</th>\n",
       "      <td>166187</td>\n",
       "    </tr>\n",
       "  </tbody>\n",
       "</table>\n",
       "</div>"
      ],
      "text/plain": [
       "   Profit\n",
       "0  192261\n",
       "1  191792\n",
       "2  191050\n",
       "3  182901\n",
       "4  166187"
      ]
     },
     "execution_count": 39,
     "metadata": {},
     "output_type": "execute_result"
    }
   ],
   "source": [
    "dependend.head()"
   ]
  },
  {
   "cell_type": "code",
   "execution_count": 40,
   "id": "8f5811f0",
   "metadata": {},
   "outputs": [],
   "source": [
    "from sklearn.model_selection import train_test_split\n",
    "x_train,x_test,y_train,y_test=train_test_split(independend,dependend,test_size=0.30,random_state=0)"
   ]
  },
  {
   "cell_type": "code",
   "execution_count": 41,
   "id": "640b11a1",
   "metadata": {},
   "outputs": [
    {
     "data": {
      "text/plain": [
       "(    R&D Spend  Administration  Marketing Spend  State_Florida  State_New York\n",
       " 7      130298          145530           323876              1               0\n",
       " 14     119943          156547           256512              1               0\n",
       " 45       1000          124153             1903              0               1\n",
       " 48        542           51743                0              0               1\n",
       " 29      65605          153032           107138              0               1\n",
       " 15     114523          122616           261776              0               1\n",
       " 30      61994          115641            91131              1               0\n",
       " 32      63408          129219            46085              0               0\n",
       " 16      78013          121597           264346              0               0\n",
       " 42      23640           96189           148001              0               0\n",
       " 20      76253          113867           298664              0               0\n",
       " 43      15505          127382            35534              0               1\n",
       " 8      120542          148718           311613              0               1\n",
       " 13      91992          135495           252664              0               0\n",
       " 25      64664          139553           137962              0               0\n",
       " 5      131876           99814           362861              0               1\n",
       " 17      94657          145077           282574              0               1\n",
       " 40      28754          118546           172795              0               0\n",
       " 49          0          116983            45173              0               0\n",
       " 1      162597          151377           443898              0               0\n",
       " 12      93863          127320           249839              1               0\n",
       " 37      44069           51283           197029              0               0\n",
       " 24      77044           99281           140574              0               1\n",
       " 6      134615          147198           127716              0               0\n",
       " 23      67532          105751           304768              1               0\n",
       " 36      28663          127056           201126              1               0\n",
       " 21      78389          153773           299737              0               1\n",
       " 19      86419          153514                0              0               1\n",
       " 9      123334          108679           304981              0               0\n",
       " 39      38558           82982           174999              0               0\n",
       " 46       1315          115816           297114              1               0\n",
       " 3      144372          118671           383199              0               1\n",
       " 0      165349          136897           471784              0               1\n",
       " 47          0          135426                0              0               0\n",
       " 44      22177          154806            28334              0               0,\n",
       "     R&D Spend  Administration  Marketing Spend  State_Florida  State_New York\n",
       " 28      66051          182645           118148              1               0\n",
       " 11     100671           91790           249744              0               0\n",
       " 10     101913          110594           229160              1               0\n",
       " 41      27892           84710           164470              1               0\n",
       " 2      153441          101145           407934              1               0\n",
       " 27      72107          127864           353183              0               1\n",
       " 38      20229           65947           185265              0               1\n",
       " 31      61136          152701            88218              0               1\n",
       " 22      73994          122782           303319              1               0\n",
       " 4      142107           91391           366168              1               0\n",
       " 33      55493          103057           214634              1               0\n",
       " 35      46014           85047           205517              0               1\n",
       " 26      75328          144135           134050              1               0\n",
       " 34      46426          157693           210797              0               0\n",
       " 18      91749          114175           294919              1               0,\n",
       "     Profit\n",
       " 7   155752\n",
       " 14  132602\n",
       " 45   64926\n",
       " 48   35673\n",
       " 29  101004\n",
       " 15  129917\n",
       " 30   99937\n",
       " 32   97427\n",
       " 16  126992\n",
       " 42   71498\n",
       " 20  118474\n",
       " 43   69758\n",
       " 8   152211\n",
       " 13  134307\n",
       " 25  107404\n",
       " 5   156991\n",
       " 17  125370\n",
       " 40   78239\n",
       " 49   14681\n",
       " 1   191792\n",
       " 12  141585\n",
       " 37   89949\n",
       " 24  108552\n",
       " 6   156122\n",
       " 23  108733\n",
       " 36   90708\n",
       " 21  111313\n",
       " 19  122776\n",
       " 9   149759\n",
       " 39   81005\n",
       " 46   49490\n",
       " 3   182901\n",
       " 0   192261\n",
       " 47   42559\n",
       " 44   65200,\n",
       "     Profit\n",
       " 28  103282\n",
       " 11  144259\n",
       " 10  146121\n",
       " 41   77798\n",
       " 2   191050\n",
       " 27  105008\n",
       " 38   81229\n",
       " 31   97483\n",
       " 22  110352\n",
       " 4   166187\n",
       " 33   96778\n",
       " 35   96479\n",
       " 26  105733\n",
       " 34   96712\n",
       " 18  124266)"
      ]
     },
     "execution_count": 41,
     "metadata": {},
     "output_type": "execute_result"
    }
   ],
   "source": [
    "x_train,x_test,y_train,y_test"
   ]
  },
  {
   "cell_type": "code",
   "execution_count": 42,
   "id": "95444171",
   "metadata": {},
   "outputs": [],
   "source": [
    "from sklearn.tree import DecisionTreeRegressor"
   ]
  },
  {
   "cell_type": "code",
   "execution_count": 43,
   "id": "02841742",
   "metadata": {},
   "outputs": [],
   "source": [
    "regressor=DecisionTreeRegressor()"
   ]
  },
  {
   "cell_type": "code",
   "execution_count": 44,
   "id": "c25e9746",
   "metadata": {},
   "outputs": [],
   "source": [
    "regressor=regressor.fit(x_train,y_train)"
   ]
  },
  {
   "cell_type": "code",
   "execution_count": 45,
   "id": "6f0e1d67",
   "metadata": {},
   "outputs": [],
   "source": [
    "import matplotlib.pyplot as plt\n",
    "from sklearn import tree"
   ]
  },
  {
   "cell_type": "code",
   "execution_count": 46,
   "id": "2ba5c835",
   "metadata": {},
   "outputs": [
    {
     "data": {
      "text/plain": [
       "[Text(0.4778645833333333, 0.9375, 'x[0] <= 66568.5\\nsquared_error = 1850096540.903\\nsamples = 35\\nvalue = 110224.8'),\n",
       " Text(0.21354166666666666, 0.8125, 'x[0] <= 8410.0\\nsquared_error = 649408093.484\\nsamples = 16\\nvalue = 72466.125'),\n",
       " Text(0.10416666666666667, 0.6875, 'x[0] <= 771.0\\nsquared_error = 273389179.76\\nsamples = 5\\nvalue = 41465.8'),\n",
       " Text(0.0625, 0.5625, 'x[2] <= 22586.5\\nsquared_error = 140584882.667\\nsamples = 3\\nvalue = 30971.0'),\n",
       " Text(0.041666666666666664, 0.4375, 'x[1] <= 93584.5\\nsquared_error = 11854249.0\\nsamples = 2\\nvalue = 39116.0'),\n",
       " Text(0.020833333333333332, 0.3125, 'squared_error = 0.0\\nsamples = 1\\nvalue = 35673.0'),\n",
       " Text(0.0625, 0.3125, 'squared_error = 0.0\\nsamples = 1\\nvalue = 42559.0'),\n",
       " Text(0.08333333333333333, 0.4375, 'squared_error = 0.0\\nsamples = 1\\nvalue = 14681.0'),\n",
       " Text(0.14583333333333334, 0.5625, 'x[1] <= 119984.5\\nsquared_error = 59567524.0\\nsamples = 2\\nvalue = 57208.0'),\n",
       " Text(0.125, 0.4375, 'squared_error = 0.0\\nsamples = 1\\nvalue = 49490.0'),\n",
       " Text(0.16666666666666666, 0.4375, 'squared_error = 0.0\\nsamples = 1\\nvalue = 64926.0'),\n",
       " Text(0.3229166666666667, 0.6875, 'x[0] <= 41313.5\\nsquared_error = 184940558.331\\nsamples = 11\\nvalue = 86557.182'),\n",
       " Text(0.25, 0.5625, 'x[2] <= 160398.0\\nsquared_error = 70371872.333\\nsamples = 6\\nvalue = 76068.0'),\n",
       " Text(0.20833333333333334, 0.4375, 'x[1] <= 141094.0\\nsquared_error = 7051974.222\\nsamples = 3\\nvalue = 68818.667'),\n",
       " Text(0.1875, 0.3125, 'x[0] <= 19572.5\\nsquared_error = 756900.0\\nsamples = 2\\nvalue = 70628.0'),\n",
       " Text(0.16666666666666666, 0.1875, 'squared_error = 0.0\\nsamples = 1\\nvalue = 69758.0'),\n",
       " Text(0.20833333333333334, 0.1875, 'squared_error = 0.0\\nsamples = 1\\nvalue = 71498.0'),\n",
       " Text(0.22916666666666666, 0.3125, 'squared_error = 0.0\\nsamples = 1\\nvalue = 65200.0'),\n",
       " Text(0.2916666666666667, 0.4375, 'x[3] <= 0.5\\nsquared_error = 28586102.889\\nsamples = 3\\nvalue = 83317.333'),\n",
       " Text(0.2708333333333333, 0.3125, 'x[1] <= 100764.0\\nsquared_error = 1912689.0\\nsamples = 2\\nvalue = 79622.0'),\n",
       " Text(0.25, 0.1875, 'squared_error = 0.0\\nsamples = 1\\nvalue = 81005.0'),\n",
       " Text(0.2916666666666667, 0.1875, 'squared_error = 0.0\\nsamples = 1\\nvalue = 78239.0'),\n",
       " Text(0.3125, 0.3125, 'squared_error = 0.0\\nsamples = 1\\nvalue = 90708.0'),\n",
       " Text(0.3958333333333333, 0.5625, 'x[2] <= 167495.5\\nsquared_error = 31962432.56\\nsamples = 5\\nvalue = 99144.2'),\n",
       " Text(0.375, 0.4375, 'x[2] <= 122550.0\\nsquared_error = 13530633.5\\nsamples = 4\\nvalue = 101443.0'),\n",
       " Text(0.3541666666666667, 0.3125, 'x[2] <= 68608.0\\nsquared_error = 2248168.667\\nsamples = 3\\nvalue = 99456.0'),\n",
       " Text(0.3333333333333333, 0.1875, 'squared_error = 0.0\\nsamples = 1\\nvalue = 97427.0'),\n",
       " Text(0.375, 0.1875, 'x[0] <= 63799.5\\nsquared_error = 284622.25\\nsamples = 2\\nvalue = 100470.5'),\n",
       " Text(0.3541666666666667, 0.0625, 'squared_error = 0.0\\nsamples = 1\\nvalue = 99937.0'),\n",
       " Text(0.3958333333333333, 0.0625, 'squared_error = 0.0\\nsamples = 1\\nvalue = 101004.0'),\n",
       " Text(0.3958333333333333, 0.3125, 'squared_error = 0.0\\nsamples = 1\\nvalue = 107404.0'),\n",
       " Text(0.4166666666666667, 0.4375, 'squared_error = 0.0\\nsamples = 1\\nvalue = 89949.0'),\n",
       " Text(0.7421875, 0.8125, 'x[0] <= 120242.5\\nsquared_error = 649563208.139\\nsamples = 19\\nvalue = 142021.579'),\n",
       " Text(0.5989583333333334, 0.6875, 'x[0] <= 89205.5\\nsquared_error = 108998143.421\\nsamples = 11\\nvalue = 123692.818'),\n",
       " Text(0.5104166666666666, 0.5625, 'x[1] <= 109809.0\\nsquared_error = 50498546.333\\nsamples = 6\\nvalue = 116140.0'),\n",
       " Text(0.4583333333333333, 0.4375, 'x[4] <= 0.5\\nsquared_error = 8190.25\\nsamples = 2\\nvalue = 108642.5'),\n",
       " Text(0.4375, 0.3125, 'squared_error = 0.0\\nsamples = 1\\nvalue = 108733.0'),\n",
       " Text(0.4791666666666667, 0.3125, 'squared_error = 0.0\\nsamples = 1\\nvalue = 108552.0'),\n",
       " Text(0.5625, 0.4375, 'x[2] <= 281505.0\\nsquared_error = 33584344.688\\nsamples = 4\\nvalue = 119888.75'),\n",
       " Text(0.5208333333333334, 0.3125, 'x[0] <= 82216.0\\nsquared_error = 4443664.0\\nsamples = 2\\nvalue = 124884.0'),\n",
       " Text(0.5, 0.1875, 'squared_error = 0.0\\nsamples = 1\\nvalue = 126992.0'),\n",
       " Text(0.5416666666666666, 0.1875, 'squared_error = 0.0\\nsamples = 1\\nvalue = 122776.0'),\n",
       " Text(0.6041666666666666, 0.3125, 'x[4] <= 0.5\\nsquared_error = 12819980.25\\nsamples = 2\\nvalue = 114893.5'),\n",
       " Text(0.5833333333333334, 0.1875, 'squared_error = 0.0\\nsamples = 1\\nvalue = 118474.0'),\n",
       " Text(0.625, 0.1875, 'squared_error = 0.0\\nsamples = 1\\nvalue = 111313.0'),\n",
       " Text(0.6875, 0.5625, 'x[2] <= 251251.5\\nsquared_error = 28598694.96\\nsamples = 5\\nvalue = 132756.2'),\n",
       " Text(0.6666666666666666, 0.4375, 'squared_error = 0.0\\nsamples = 1\\nvalue = 141585.0'),\n",
       " Text(0.7083333333333334, 0.4375, 'x[2] <= 272175.0\\nsquared_error = 11389709.5\\nsamples = 4\\nvalue = 130549.0'),\n",
       " Text(0.6875, 0.3125, 'x[2] <= 259144.0\\nsquared_error = 3265372.222\\nsamples = 3\\nvalue = 132275.333'),\n",
       " Text(0.6666666666666666, 0.1875, 'x[2] <= 254588.0\\nsquared_error = 726756.25\\nsamples = 2\\nvalue = 133454.5'),\n",
       " Text(0.6458333333333334, 0.0625, 'squared_error = 0.0\\nsamples = 1\\nvalue = 134307.0'),\n",
       " Text(0.6875, 0.0625, 'squared_error = 0.0\\nsamples = 1\\nvalue = 132602.0'),\n",
       " Text(0.7083333333333334, 0.1875, 'squared_error = 0.0\\nsamples = 1\\nvalue = 129917.0'),\n",
       " Text(0.7291666666666666, 0.3125, 'squared_error = 0.0\\nsamples = 1\\nvalue = 125370.0'),\n",
       " Text(0.8854166666666666, 0.6875, 'x[2] <= 373030.0\\nsquared_error = 295774773.984\\nsamples = 8\\nvalue = 167223.625'),\n",
       " Text(0.8333333333333334, 0.5625, 'x[0] <= 126816.0\\nsquared_error = 7513125.2\\nsamples = 5\\nvalue = 154167.0'),\n",
       " Text(0.7916666666666666, 0.4375, 'x[4] <= 0.5\\nsquared_error = 1503076.0\\nsamples = 2\\nvalue = 150985.0'),\n",
       " Text(0.7708333333333334, 0.3125, 'squared_error = 0.0\\nsamples = 1\\nvalue = 149759.0'),\n",
       " Text(0.8125, 0.3125, 'squared_error = 0.0\\nsamples = 1\\nvalue = 152211.0'),\n",
       " Text(0.875, 0.4375, 'x[2] <= 343368.5\\nsquared_error = 269686.889\\nsamples = 3\\nvalue = 156288.333'),\n",
       " Text(0.8541666666666666, 0.3125, 'x[1] <= 146364.0\\nsquared_error = 34225.0\\nsamples = 2\\nvalue = 155937.0'),\n",
       " Text(0.8333333333333334, 0.1875, 'squared_error = 0.0\\nsamples = 1\\nvalue = 155752.0'),\n",
       " Text(0.875, 0.1875, 'squared_error = 0.0\\nsamples = 1\\nvalue = 156122.0'),\n",
       " Text(0.8958333333333334, 0.3125, 'squared_error = 0.0\\nsamples = 1\\nvalue = 156991.0'),\n",
       " Text(0.9375, 0.5625, 'x[1] <= 127784.0\\nsquared_error = 18542160.222\\nsamples = 3\\nvalue = 188984.667'),\n",
       " Text(0.9166666666666666, 0.4375, 'squared_error = 0.0\\nsamples = 1\\nvalue = 182901.0'),\n",
       " Text(0.9583333333333334, 0.4375, 'x[0] <= 163973.0\\nsquared_error = 54990.25\\nsamples = 2\\nvalue = 192026.5'),\n",
       " Text(0.9375, 0.3125, 'squared_error = 0.0\\nsamples = 1\\nvalue = 191792.0'),\n",
       " Text(0.9791666666666666, 0.3125, 'squared_error = 0.0\\nsamples = 1\\nvalue = 192261.0')]"
      ]
     },
     "execution_count": 46,
     "metadata": {},
     "output_type": "execute_result"
    },
    {
     "data": {
      "image/png": "[encoded data removed]",
      "text/plain": [
       "<Figure size 640x480 with 1 Axes>"
      ]
     },
     "metadata": {},
     "output_type": "display_data"
    }
   ],
   "source": [
    "tree.plot_tree(regressor)"
   ]
  },
  {
   "cell_type": "code",
   "execution_count": 47,
   "id": "4fe7e36a",
   "metadata": {},
   "outputs": [],
   "source": [
    "plt.show()"
   ]
  },
  {
   "cell_type": "code",
   "execution_count": 48,
   "id": "e442be6e",
   "metadata": {},
   "outputs": [],
   "source": [
    "y_pred = regressor.predict(x_test)"
   ]
  },
  {
   "cell_type": "code",
   "execution_count": 49,
   "id": "db02433e",
   "metadata": {},
   "outputs": [],
   "source": [
    "from sklearn.metrics import r2_score"
   ]
  },
  {
   "cell_type": "code",
   "execution_count": 50,
   "id": "6fdeac5e",
   "metadata": {},
   "outputs": [],
   "source": [
    "r_score = r2_score(y_test,y_pred)"
   ]
  },
  {
   "cell_type": "code",
   "execution_count": 51,
   "id": "6c63e90c",
   "metadata": {},
   "outputs": [
    {
     "data": {
      "text/plain": [
       "0.9274431963815313"
      ]
     },
     "execution_count": 51,
     "metadata": {},
     "output_type": "execute_result"
    }
   ],
   "source": [
    "r_score"
   ]
  },
  {
   "cell_type": "code",
   "execution_count": 52,
   "id": "e1e82280",
   "metadata": {},
   "outputs": [],
   "source": [
    "import pickle"
   ]
  },
  {
   "cell_type": "code",
   "execution_count": 53,
   "id": "64c68c90",
   "metadata": {},
   "outputs": [],
   "source": [
    "filename = \"finalized_model_DecisionTree.sav\""
   ]
  },
  {
   "cell_type": "code",
   "execution_count": 54,
   "id": "d33430f8",
   "metadata": {},
   "outputs": [],
   "source": [
    "pickle.dump(regressor,open(filename,'wb'))"
   ]
  },
  {
   "cell_type": "code",
   "execution_count": 55,
   "id": "a26918af",
   "metadata": {},
   "outputs": [],
   "source": [
    "loaded_model=pickle.load(open(\"finalized_model_DecisionTree.sav\",'rb'))"
   ]
  },
  {
   "cell_type": "code",
   "execution_count": 56,
   "id": "fbeb689c",
   "metadata": {},
   "outputs": [
    {
     "name": "stderr",
     "output_type": "stream",
     "text": [
      "C:\\Users\\rsarv\\anaconda3\\Lib\\site-packages\\sklearn\\base.py:464: UserWarning: X does not have valid feature names, but DecisionTreeRegressor was fitted with feature names\n",
      "  warnings.warn(\n"
     ]
    }
   ],
   "source": [
    "result = loaded_model.predict([[4576,6745,8000,1,0]])"
   ]
  },
  {
   "cell_type": "code",
   "execution_count": 57,
   "id": "88f79373",
   "metadata": {},
   "outputs": [
    {
     "data": {
      "text/plain": [
       "array([49490.])"
      ]
     },
     "execution_count": 57,
     "metadata": {},
     "output_type": "execute_result"
    }
   ],
   "source": [
    "result"
   ]
  },
  {
   "cell_type": "code",
   "execution_count": null,
   "id": "d71b55d5",
   "metadata": {},
   "outputs": [],
   "source": []
  }
 ],
 "metadata": {
  "kernelspec": {
   "display_name": "Python 3 (ipykernel)",
   "language": "python",
   "name": "python3"
  },
  "language_info": {
   "codemirror_mode": {
    "name": "ipython",
    "version": 3
   },
   "file_extension": ".py",
   "mimetype": "text/x-python",
   "name": "python",
   "nbconvert_exporter": "python",
   "pygments_lexer": "ipython3",
   "version": "3.11.5"
  }
 },
 "nbformat": 4,
 "nbformat_minor": 5
}
