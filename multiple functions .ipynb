{
 "cells": [
  {
   "cell_type": "code",
   "execution_count": 2,
   "id": "b28cfe34",
   "metadata": {},
   "outputs": [],
   "source": [
    "class multiple_functions():\n",
    "    def odd_even():\n",
    "        numb=int(input(\"enter your numb :\"))\n",
    "        if numb%2==0:\n",
    "            print(\"the given num is even\")\n",
    "        else:\n",
    "            print(\"the given num is odd\")\n",
    "     \n",
    "    def gender():\n",
    "        gender=input(\"your gender :\")\n",
    "        age=int(input(\"your age :\"))\n",
    "        if(gender==\"male\"):\n",
    "            if(age<21):\n",
    "                print(\"not-eligible\")\n",
    "            else:\n",
    "                print('eligible')\n",
    "        else:\n",
    "            if(age<18):\n",
    "                print(\"not-eligible\")\n",
    "            else:\n",
    "                print(\"eligible\")\n",
    "                \n",
    "    def sub():\n",
    "        sub1=int(input(\"subject1=\"))\n",
    "        sub2=int(input(\"subject2=\"))\n",
    "        sub3=int(input(\"subject3=\"))\n",
    "        sub4=int(input(\"subject4=\"))\n",
    "        sub5=int(input(\"subject5=\"))\n",
    "        total=(sub1+sub2+sub3+sub4+sub5)\n",
    "        percentage=total/5\n",
    "        print(\"total:\",total)\n",
    "        print(\"percentage:\",percentage)\n",
    "        \n",
    "    def age():\n",
    "        age=int(input(\"enter your age =\"))\n",
    "        if(0<age<12):\n",
    "            print(\"child\")\n",
    "        elif(13<age<18):\n",
    "            print(\"adult\")\n",
    "        elif(19<age<25):\n",
    "            print(\"man or woman\")\n",
    "        elif(26<age<50):\n",
    "            print(\"citizen\")\n",
    "        else:\n",
    "            print(\"senior citizen\")\n",
    "     \n",
    "    def Bmi_value():\n",
    "        Bmi_value =float(input(\"enter the BMI index:\"))\n",
    "        if(18.5>Bmi_value):\n",
    "            print(\"under weight\")\n",
    "        elif(18.5<=Bmi_value<=24.9):\n",
    "            print(\"normal\")\n",
    "        elif(25<=Bmivalue<=29.9):\n",
    "            print(\"over weight\")\n",
    "        elif(30<=Bmi_value<=34.9):\n",
    "            print(\"obisity class1\")\n",
    "        elif(35<=Bmi_value<=39.9):\n",
    "            print(\"obisity class 2\")\n",
    "        else:\n",
    "            print(\"obisity class 3\")\n",
    "            "
   ]
  },
  {
   "cell_type": "code",
   "execution_count": 2,
   "id": "ce3cf029",
   "metadata": {},
   "outputs": [
    {
     "name": "stdout",
     "output_type": "stream",
     "text": [
      "your gender :male\n",
      "your age :35\n",
      "eligible\n"
     ]
    }
   ],
   "source": [
    "multiple_functions.gender()"
   ]
  },
  {
   "cell_type": "code",
   "execution_count": 4,
   "id": "f6e49fe0",
   "metadata": {},
   "outputs": [
    {
     "name": "stdout",
     "output_type": "stream",
     "text": [
      "enter your age =24\n",
      "man or woman\n"
     ]
    }
   ],
   "source": [
    " multiple_functions.age()"
   ]
  },
  {
   "cell_type": "code",
   "execution_count": 4,
   "id": "ec5b0384",
   "metadata": {},
   "outputs": [
    {
     "name": "stdout",
     "output_type": "stream",
     "text": [
      "enter the BMI index:18\n",
      "under weight\n"
     ]
    }
   ],
   "source": [
    " multiple_functions.Bmi_value()"
   ]
  },
  {
   "cell_type": "code",
   "execution_count": null,
   "id": "b98c68f2",
   "metadata": {},
   "outputs": [],
   "source": []
  }
 ],
 "metadata": {
  "kernelspec": {
   "display_name": "Python 3 (ipykernel)",
   "language": "python",
   "name": "python3"
  },
  "language_info": {
   "codemirror_mode": {
    "name": "ipython",
    "version": 3
   },
   "file_extension": ".py",
   "mimetype": "text/x-python",
   "name": "python",
   "nbconvert_exporter": "python",
   "pygments_lexer": "ipython3",
   "version": "3.11.5"
  }
 },
 "nbformat": 4,
 "nbformat_minor": 5
}
