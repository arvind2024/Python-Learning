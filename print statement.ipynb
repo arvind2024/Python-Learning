{
 "cells": [
  {
   "cell_type": "code",
   "execution_count": 1,
   "id": "b1fd525e",
   "metadata": {},
   "outputs": [],
   "source": [
    "#printstatement"
   ]
  },
  {
   "cell_type": "code",
   "execution_count": 2,
   "id": "9539212d",
   "metadata": {},
   "outputs": [
    {
     "name": "stdout",
     "output_type": "stream",
     "text": [
      "hi\n"
     ]
    }
   ],
   "source": [
    "print(\"hi\")"
   ]
  },
  {
   "cell_type": "code",
   "execution_count": 3,
   "id": "16a9c7f7",
   "metadata": {},
   "outputs": [
    {
     "name": "stdout",
     "output_type": "stream",
     "text": [
      "goodmorning\n"
     ]
    }
   ],
   "source": [
    "print(\"goodmorning\")"
   ]
  },
  {
   "cell_type": "code",
   "execution_count": 4,
   "id": "6bbcb060",
   "metadata": {},
   "outputs": [
    {
     "name": "stdout",
     "output_type": "stream",
     "text": [
      "33\n"
     ]
    }
   ],
   "source": [
    "print(16+17)"
   ]
  },
  {
   "cell_type": "code",
   "execution_count": 5,
   "id": "0252a046",
   "metadata": {},
   "outputs": [
    {
     "name": "stdout",
     "output_type": "stream",
     "text": [
      "1584\n"
     ]
    }
   ],
   "source": [
    "print(33*48)"
   ]
  },
  {
   "cell_type": "code",
   "execution_count": 6,
   "id": "c7d571b6",
   "metadata": {},
   "outputs": [
    {
     "name": "stdout",
     "output_type": "stream",
     "text": [
      "33*48= 1584\n"
     ]
    }
   ],
   "source": [
    "print(\"33*48=\",33*48)"
   ]
  },
  {
   "cell_type": "code",
   "execution_count": 7,
   "id": "02f8e04f",
   "metadata": {},
   "outputs": [
    {
     "name": "stdout",
     "output_type": "stream",
     "text": [
      "hi arvind,how are you?\n"
     ]
    }
   ],
   "source": [
    "print(\"hi arvind,how are you?\")"
   ]
  },
  {
   "cell_type": "code",
   "execution_count": 8,
   "id": "46537030",
   "metadata": {},
   "outputs": [
    {
     "name": "stdout",
     "output_type": "stream",
     "text": [
      "15.0\n"
     ]
    }
   ],
   "source": [
    "print(45/3)"
   ]
  },
  {
   "cell_type": "code",
   "execution_count": 9,
   "id": "bf98d6cb",
   "metadata": {},
   "outputs": [
    {
     "name": "stdout",
     "output_type": "stream",
     "text": [
      "0\n"
     ]
    }
   ],
   "source": [
    "print(55%5)"
   ]
  },
  {
   "cell_type": "code",
   "execution_count": 10,
   "id": "bc672bca",
   "metadata": {},
   "outputs": [
    {
     "name": "stdout",
     "output_type": "stream",
     "text": [
      "1\n"
     ]
    }
   ],
   "source": [
    "print(45%2)"
   ]
  },
  {
   "cell_type": "code",
   "execution_count": null,
   "id": "45fda367",
   "metadata": {},
   "outputs": [],
   "source": []
  }
 ],
 "metadata": {
  "kernelspec": {
   "display_name": "Python 3 (ipykernel)",
   "language": "python",
   "name": "python3"
  },
  "language_info": {
   "codemirror_mode": {
    "name": "ipython",
    "version": 3
   },
   "file_extension": ".py",
   "mimetype": "text/x-python",
   "name": "python",
   "nbconvert_exporter": "python",
   "pygments_lexer": "ipython3",
   "version": "3.11.5"
  }
 },
 "nbformat": 4,
 "nbformat_minor": 5
}
