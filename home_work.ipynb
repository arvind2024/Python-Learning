{
 "cells": [
  {
   "cell_type": "code",
   "execution_count": 1,
   "id": "dcff3a76",
   "metadata": {},
   "outputs": [],
   "source": [
    "# Home_work"
   ]
  },
  {
   "cell_type": "code",
   "execution_count": 2,
   "id": "b2e34758",
   "metadata": {},
   "outputs": [
    {
     "name": "stdout",
     "output_type": "stream",
     "text": [
      "enter your age:20\n",
      "man or woman\n"
     ]
    }
   ],
   "source": [
    "age=int(input(\"enter your age:\"))\n",
    "if(0<age<12):\n",
    "    print(\"child\")\n",
    "elif(13<age<18):\n",
    "    print(\"adult\")\n",
    "elif(19<age<25):\n",
    "    print(\"man or woman\")\n",
    "elif(26<age<50):\n",
    "    print(\"citizen\")\n",
    "else:\n",
    "    print(\"senior citizen\")"
   ]
  },
  {
   "cell_type": "code",
   "execution_count": null,
   "id": "f67628d7",
   "metadata": {},
   "outputs": [],
   "source": []
  }
 ],
 "metadata": {
  "kernelspec": {
   "display_name": "Python 3 (ipykernel)",
   "language": "python",
   "name": "python3"
  },
  "language_info": {
   "codemirror_mode": {
    "name": "ipython",
    "version": 3
   },
   "file_extension": ".py",
   "mimetype": "text/x-python",
   "name": "python",
   "nbconvert_exporter": "python",
   "pygments_lexer": "ipython3",
   "version": "3.11.5"
  }
 },
 "nbformat": 4,
 "nbformat_minor": 5
}
