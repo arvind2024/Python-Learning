{
 "cells": [
  {
   "cell_type": "code",
   "execution_count": 1,
   "id": "8c93e6fb",
   "metadata": {},
   "outputs": [],
   "source": [
    "# ASSIGNMENT 1"
   ]
  },
  {
   "cell_type": "code",
   "execution_count": 2,
   "id": "0dcf5c7a",
   "metadata": {},
   "outputs": [],
   "source": [
    "# question 1:"
   ]
  },
  {
   "cell_type": "code",
   "execution_count": 3,
   "id": "919125f4",
   "metadata": {},
   "outputs": [
    {
     "name": "stdout",
     "output_type": "stream",
     "text": [
      "welcom to Assignment 1\n"
     ]
    }
   ],
   "source": [
    "print(\"welcom to Assignment 1\")"
   ]
  },
  {
   "cell_type": "code",
   "execution_count": 4,
   "id": "bdf06fe4",
   "metadata": {},
   "outputs": [],
   "source": [
    "#question 2:"
   ]
  },
  {
   "cell_type": "code",
   "execution_count": 5,
   "id": "585477fb",
   "metadata": {},
   "outputs": [
    {
     "name": "stdout",
     "output_type": "stream",
     "text": [
      "40\n"
     ]
    }
   ],
   "source": [
    "numb1=10\n",
    "numb2=30\n",
    "add=numb1+numb2\n",
    "print(add)"
   ]
  },
  {
   "cell_type": "code",
   "execution_count": 6,
   "id": "ba08fe84",
   "metadata": {},
   "outputs": [],
   "source": [
    "# question 3:"
   ]
  },
  {
   "cell_type": "code",
   "execution_count": 9,
   "id": "33c38119",
   "metadata": {},
   "outputs": [
    {
     "name": "stdout",
     "output_type": "stream",
     "text": [
      "enter your institude name?: Nextgen ai\n"
     ]
    }
   ],
   "source": [
    "institude_name=\"Nextgen ai\"\n",
    "print(\"enter your institude name?:\",institude_name)"
   ]
  },
  {
   "cell_type": "code",
   "execution_count": 10,
   "id": "d7aacd13",
   "metadata": {},
   "outputs": [],
   "source": [
    "# question 4:"
   ]
  },
  {
   "cell_type": "code",
   "execution_count": 12,
   "id": "b9797649",
   "metadata": {},
   "outputs": [
    {
     "name": "stdout",
     "output_type": "stream",
     "text": [
      "enter your name : karthi\n",
      "enter your age : 30\n",
      "enter your school name : girls school\n",
      "enter yourdegree : B.E cse\n"
     ]
    }
   ],
   "source": [
    "name=\"karthi\"\n",
    "age=\"30\"\n",
    "schoolname=\"girls school\"\n",
    "degree=\"B.E cse\"\n",
    "print(\"enter your name :\",name)\n",
    "print(\"enter your age :\",age)\n",
    "print(\"enter your school name :\",schoolname)\n",
    "print(\"enter yourdegree :\",degree)"
   ]
  },
  {
   "cell_type": "code",
   "execution_count": 13,
   "id": "69d631f2",
   "metadata": {},
   "outputs": [],
   "source": [
    "# question 5:"
   ]
  },
  {
   "cell_type": "code",
   "execution_count": 15,
   "id": "f97cf795",
   "metadata": {},
   "outputs": [
    {
     "name": "stdout",
     "output_type": "stream",
     "text": [
      "add: 86\n"
     ]
    }
   ],
   "source": [
    "a=43\n",
    "b=43\n",
    "add=a+b\n",
    "print(\"add:\",add)"
   ]
  },
  {
   "cell_type": "code",
   "execution_count": 16,
   "id": "58de7f3c",
   "metadata": {},
   "outputs": [],
   "source": [
    "# question 6:"
   ]
  },
  {
   "cell_type": "code",
   "execution_count": 17,
   "id": "f51def9d",
   "metadata": {},
   "outputs": [
    {
     "name": "stdout",
     "output_type": "stream",
     "text": [
      "sub : 0\n"
     ]
    }
   ],
   "source": [
    "a=43\n",
    "b=43\n",
    "sub=a-b\n",
    "print(\"sub :\",sub)"
   ]
  },
  {
   "cell_type": "code",
   "execution_count": 18,
   "id": "3065e57b",
   "metadata": {},
   "outputs": [],
   "source": [
    "# question 7:"
   ]
  },
  {
   "cell_type": "code",
   "execution_count": 19,
   "id": "4274a083",
   "metadata": {},
   "outputs": [
    {
     "name": "stdout",
     "output_type": "stream",
     "text": [
      "mul : 6111\n"
     ]
    }
   ],
   "source": [
    "a=63\n",
    "b=97\n",
    "mul=a*b\n",
    "print(\"mul :\",mul)"
   ]
  },
  {
   "cell_type": "code",
   "execution_count": 20,
   "id": "84d032ec",
   "metadata": {},
   "outputs": [],
   "source": [
    "# question 8:"
   ]
  },
  {
   "cell_type": "code",
   "execution_count": 21,
   "id": "ac7d7a95",
   "metadata": {},
   "outputs": [
    {
     "name": "stdout",
     "output_type": "stream",
     "text": [
      "div : 2.4516129032258065\n"
     ]
    }
   ],
   "source": [
    "a=76\n",
    "b=31\n",
    "div=a/b\n",
    "print(\"div :\",div)"
   ]
  },
  {
   "cell_type": "code",
   "execution_count": 22,
   "id": "b4520928",
   "metadata": {},
   "outputs": [],
   "source": [
    "# question 9:"
   ]
  },
  {
   "cell_type": "code",
   "execution_count": 37,
   "id": "e1113519",
   "metadata": {},
   "outputs": [
    {
     "name": "stdout",
     "output_type": "stream",
     "text": [
      "Div: 2.4516129032258065\n"
     ]
    }
   ],
   "source": [
    "a=76\n",
    "b=31\n",
    "Div=a/b\n",
    "print(\"Div:\",div)"
   ]
  },
  {
   "cell_type": "code",
   "execution_count": 38,
   "id": "3716178b",
   "metadata": {},
   "outputs": [],
   "source": [
    "# question 10:"
   ]
  },
  {
   "cell_type": "code",
   "execution_count": 39,
   "id": "a2d3a0d7",
   "metadata": {},
   "outputs": [
    {
     "name": "stdout",
     "output_type": "stream",
     "text": [
      "modute : 14\n"
     ]
    }
   ],
   "source": [
    "a=76\n",
    "b=31\n",
    "module=a%b\n",
    "print(\"modute :\",module)"
   ]
  },
  {
   "cell_type": "code",
   "execution_count": 40,
   "id": "04eac395",
   "metadata": {},
   "outputs": [],
   "source": [
    "# question 11:"
   ]
  },
  {
   "cell_type": "code",
   "execution_count": 41,
   "id": "039a15f5",
   "metadata": {},
   "outputs": [
    {
     "name": "stdout",
     "output_type": "stream",
     "text": [
      "power : 256\n"
     ]
    }
   ],
   "source": [
    "a=4\n",
    "b=4\n",
    "power=a**b\n",
    "print(\"power :\",power)"
   ]
  },
  {
   "cell_type": "code",
   "execution_count": null,
   "id": "ad273074",
   "metadata": {},
   "outputs": [],
   "source": []
  }
 ],
 "metadata": {
  "kernelspec": {
   "display_name": "Python 3 (ipykernel)",
   "language": "python",
   "name": "python3"
  },
  "language_info": {
   "codemirror_mode": {
    "name": "ipython",
    "version": 3
   },
   "file_extension": ".py",
   "mimetype": "text/x-python",
   "name": "python",
   "nbconvert_exporter": "python",
   "pygments_lexer": "ipython3",
   "version": "3.11.5"
  }
 },
 "nbformat": 4,
 "nbformat_minor": 5
}
