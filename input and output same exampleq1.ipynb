{
 "cells": [
  {
   "cell_type": "raw",
   "id": "0d68ff6d",
   "metadata": {},
   "source": [
    " # write acode to get the input in the given forma tand print the output the given formet\n",
    "\n",
    "input drscription: to take an integer value\n",
    "\n",
    "output drscription: print the the integer value \n",
    "\n",
    "sample input : 3 sample\n",
    "output :3"
   ]
  },
  {
   "cell_type": "code",
   "execution_count": 3,
   "id": "b79262c5",
   "metadata": {},
   "outputs": [
    {
     "name": "stdout",
     "output_type": "stream",
     "text": [
      "3\n",
      "3\n"
     ]
    }
   ],
   "source": [
    "a= input()\n",
    "d= input()"
   ]
  },
  {
   "cell_type": "raw",
   "id": "6fb0a7dd",
   "metadata": {},
   "source": [
    "write a code to get the input in the given format and print the output in the given format \n",
    "\n",
    "input description : print the integer list of integers separated by space\n",
    "\n",
    "sample input : 2 3 4 5 6 7 8\n",
    "\n",
    "sample output : 2 3 4 5 6 7 8\n"
   ]
  },
  {
   "cell_type": "code",
   "execution_count": 1,
   "id": "ae406563",
   "metadata": {},
   "outputs": [
    {
     "name": "stdout",
     "output_type": "stream",
     "text": [
      "2 3 4 5 6 7 8\n",
      "2 3 4 5 6 7 8\n"
     ]
    }
   ],
   "source": [
    "c=input()\n",
    "d=input()"
   ]
  },
  {
   "cell_type": "raw",
   "id": "63e489e6",
   "metadata": {},
   "source": [
    "write a code to get the input in the given format and print the output in the given format\n",
    "\n",
    "input description : first-line indicates two integers which are the size of array and 'k'value . \n",
    "second conditions element of an array\n",
    "\n",
    "output description : print the taken input in the same format \n",
    "\n",
    "sample input : \n",
    "6 7\n",
    "9 8 7 6 3\n",
    "\n",
    "sample output :\n",
    "6 7 \n",
    "9 8 7 6 3\n"
   ]
  },
  {
   "cell_type": "code",
   "execution_count": 4,
   "id": "a383f80f",
   "metadata": {},
   "outputs": [
    {
     "name": "stdout",
     "output_type": "stream",
     "text": [
      "6 7\n",
      "9 8 7 6 3\n",
      "6 7\n",
      "9 8 7 6 3\n"
     ]
    }
   ],
   "source": [
    "e=input()\n",
    "f=input()\n",
    "print(e)\n",
    "print(f)"
   ]
  },
  {
   "cell_type": "raw",
   "id": "43303f5c",
   "metadata": {},
   "source": [
    "write a code to get the input in the given format and print the output in the given format\n",
    "\n",
    "input description : first-line seprated by space.second-line indicate two integer seprated by space.\n",
    "third- line indicates two integers seprated by space.\n",
    "\n",
    "output description : print the input the same format .\n",
    "\n",
    "sample output :\n",
    "5 6\n",
    "5 6\n",
    "5 6\n",
    "sample output:\n",
    "5 6\n",
    "5 6\n",
    "5 6\n"
   ]
  },
  {
   "cell_type": "code",
   "execution_count": 5,
   "id": "36541fb1",
   "metadata": {},
   "outputs": [
    {
     "name": "stdout",
     "output_type": "stream",
     "text": [
      "5 6\n",
      "5 6\n",
      "5 6\n",
      "5 6\n",
      "5 6\n",
      "5 6\n"
     ]
    }
   ],
   "source": [
    "g=input()\n",
    "h=input()\n",
    "i=input()\n",
    "print(g)\n",
    "print(h)\n",
    "print(i)"
   ]
  },
  {
   "cell_type": "raw",
   "id": "24cfb9dd",
   "metadata": {},
   "source": [
    "write a code to get the input in the given format and print the output in the given format \n",
    "\n",
    "input description : three integers are given in line by line .\n",
    "\n",
    "output description : print the integers in a single line seprate by space.\n",
    "\n",
    "sample input : \n",
    "8\n",
    "5\n",
    "2\n",
    "sample output : \n",
    "8 5 2"
   ]
  },
  {
   "cell_type": "code",
   "execution_count": 6,
   "id": "a657a2fb",
   "metadata": {},
   "outputs": [
    {
     "name": "stdout",
     "output_type": "stream",
     "text": [
      "8\n",
      "5\n",
      "2\n",
      "8 5 2\n"
     ]
    }
   ],
   "source": [
    "j=input()\n",
    "k=input()\n",
    "l=input()\n",
    "print(j,k,l)"
   ]
  },
  {
   "cell_type": "raw",
   "id": "19c34de6",
   "metadata": {},
   "source": [
    "write a code to get the input in the given format and print the output in the given format \n",
    "\n",
    "input description : \n",
    "first- line indicates two integers seprated by space.\n",
    "seconnd-line indicates to three integers  seprated by space. \n",
    "third-line indicates three integers seprated by space.\n",
    "\n",
    "output description :\n",
    "print the input in the same value  format \n",
    "\n",
    "sample input :\n",
    "4 5\n",
    "6 3 2\n",
    "1 4 7\n",
    "\n",
    "sample  output :\n",
    "4 5\n",
    "6 3 2\n",
    "1 4 7"
   ]
  },
  {
   "cell_type": "code",
   "execution_count": 1,
   "id": "f6bce9ed",
   "metadata": {},
   "outputs": [
    {
     "name": "stdout",
     "output_type": "stream",
     "text": [
      "4 5\n",
      "6 3 2\n",
      "1 4 7\n",
      "4 5\n",
      "6 3 2\n",
      "1 4 7\n"
     ]
    }
   ],
   "source": [
    "m=input()\n",
    "n=input()\n",
    "o=input()\n",
    "print(m)\n",
    "print(n)\n",
    "print(o)"
   ]
  },
  {
   "cell_type": "raw",
   "id": "75959529",
   "metadata": {},
   "source": [
    "write a code to get the input in the given format and print the output in the given format \n",
    "\n",
    "input description : \n",
    "\n",
    "A single line contains a string .\n",
    "\n",
    "output description :\n",
    "\n",
    "print the characters in a string separated by space \n",
    "\n",
    "\n",
    "sample intput :\n",
    "Arvind\n",
    "\n",
    "\n",
    "sample  output :\n",
    "\n",
    "A r v i n d"
   ]
  },
  {
   "cell_type": "code",
   "execution_count": 3,
   "id": "50fdf2bb",
   "metadata": {},
   "outputs": [
    {
     "name": "stdout",
     "output_type": "stream",
     "text": [
      "Arvind\n",
      "A*r*v*i*n*d\n"
     ]
    }
   ],
   "source": [
    "name=input()\n",
    "print(\"*\".join(name))"
   ]
  },
  {
   "cell_type": "raw",
   "id": "d7671ccd",
   "metadata": {},
   "source": [
    "write a code to get the input in the given format and print the output in the given format \n",
    "\n",
    "input description : \n",
    "\n",
    "A single line contains three float valueseprated by space.\n",
    "\n",
    "input description : \n",
    "\n",
    "A single line contains three float value separate by space.\n",
    "\n",
    "ouput description : \n",
    "\n",
    "print the float value seprated by line .\n",
    "\n",
    "sample intput :\n",
    "\n",
    "4.2 1.2 5.4\n",
    "\n",
    "sample  output :\n",
    "\n",
    "4.2\n",
    "1.2\n",
    "5.4\n"
   ]
  },
  {
   "cell_type": "code",
   "execution_count": 4,
   "id": "43d8e7bb",
   "metadata": {},
   "outputs": [
    {
     "name": "stdout",
     "output_type": "stream",
     "text": [
      "4.2 1.2 5.4\n",
      "4.2\n",
      "1.2\n",
      "5.4\n"
     ]
    }
   ],
   "source": [
    "l=input()\n",
    "n=l.split()\n",
    "for i in n:\n",
    "    print(i)"
   ]
  },
  {
   "cell_type": "code",
   "execution_count": 5,
   "id": "a9d53113",
   "metadata": {},
   "outputs": [
    {
     "name": "stdout",
     "output_type": "stream",
     "text": [
      "segar deepa arvind nimal\n",
      "segar\n",
      "deepa\n",
      "arvind\n",
      "nimal\n"
     ]
    }
   ],
   "source": [
    "name=input()\n",
    "family=name.split()\n",
    "for i in family:\n",
    "    print(i)"
   ]
  },
  {
   "cell_type": "raw",
   "id": "92bed7c1",
   "metadata": {},
   "source": [
    "# write a code to get the input in the given format and print the output in the given format \n",
    "\n",
    "input description : \n",
    "    \n",
    "A single line contains a string\n",
    "\n",
    "ouput description : \n",
    "\n",
    "print the charactors in a string seprated by line \n",
    "\n",
    "sample input :\n",
    "\n",
    "Automobile Eneineering\n",
    "\n",
    "sample output :\n",
    "A\n",
    "u\n",
    "t\n",
    "o\n",
    "m\n",
    "o\n",
    "b\n",
    "i\n",
    "l\n",
    "e\n",
    "E\n",
    "n\n",
    "g\n",
    "i\n",
    "n\n",
    "e\n",
    "e\n",
    "r\n",
    "i\n",
    "n\n",
    "g\n"
   ]
  },
  {
   "cell_type": "code",
   "execution_count": 1,
   "id": "d60619ad",
   "metadata": {},
   "outputs": [
    {
     "name": "stdout",
     "output_type": "stream",
     "text": [
      "Automobile Engineering\n",
      "A\n",
      "u\n",
      "t\n",
      "o\n",
      "m\n",
      "o\n",
      "b\n",
      "i\n",
      "l\n",
      "e\n",
      " \n",
      "E\n",
      "n\n",
      "g\n",
      "i\n",
      "n\n",
      "e\n",
      "e\n",
      "r\n",
      "i\n",
      "n\n",
      "g\n"
     ]
    }
   ],
   "source": [
    "\n",
    "input_string = input()\n",
    "for char in input_string:\n",
    "    print(char)\n"
   ]
  },
  {
   "cell_type": "raw",
   "id": "cf5c4ac2",
   "metadata": {},
   "source": [
    "write a code to get the input in the given format and print the output in the given format \n",
    "\n",
    "input description :\n",
    "\n",
    "A single line contains a string \n",
    "\n",
    "output description :\n",
    "\n",
    "print the charaters in a string seprated by comma\n",
    "\n",
    "sample input :\n",
    "singapure\n",
    "\n",
    "sample output :\n",
    "\n",
    "s i n g a p u r e"
   ]
  },
  {
   "cell_type": "code",
   "execution_count": 2,
   "id": "61f116f3",
   "metadata": {},
   "outputs": [
    {
     "name": "stdout",
     "output_type": "stream",
     "text": [
      "singapure\n",
      "s i n g a p u r e\n"
     ]
    }
   ],
   "source": [
    "name=input()\n",
    "print(\" \".join(name))"
   ]
  },
  {
   "cell_type": "code",
   "execution_count": null,
   "id": "194be2ea",
   "metadata": {},
   "outputs": [],
   "source": []
  }
 ],
 "metadata": {
  "kernelspec": {
   "display_name": "Python 3 (ipykernel)",
   "language": "python",
   "name": "python3"
  },
  "language_info": {
   "codemirror_mode": {
    "name": "ipython",
    "version": 3
   },
   "file_extension": ".py",
   "mimetype": "text/x-python",
   "name": "python",
   "nbconvert_exporter": "python",
   "pygments_lexer": "ipython3",
   "version": "3.11.5"
  }
 },
 "nbformat": 4,
 "nbformat_minor": 5
}
