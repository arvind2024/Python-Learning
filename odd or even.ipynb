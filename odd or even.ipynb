{
 "cells": [
  {
   "cell_type": "code",
   "execution_count": 1,
   "id": "718766ac",
   "metadata": {},
   "outputs": [],
   "source": [
    "#odd or even"
   ]
  },
  {
   "cell_type": "code",
   "execution_count": 3,
   "id": "7fccc7d8",
   "metadata": {},
   "outputs": [
    {
     "name": "stdout",
     "output_type": "stream",
     "text": [
      "enter your numb :22\n",
      "the given num is even\n"
     ]
    }
   ],
   "source": [
    "numb=int(input(\"enter your numb :\"))\n",
    "if numb%2==0:\n",
    "    print(\"the given num is even\")\n",
    "else:\n",
    "    print(\"the given num is odd\")"
   ]
  },
  {
   "cell_type": "code",
   "execution_count": 4,
   "id": "b4479182",
   "metadata": {},
   "outputs": [
    {
     "name": "stdout",
     "output_type": "stream",
     "text": [
      "enter your password :india@123\n",
      "your password is correct\n"
     ]
    }
   ],
   "source": [
    "password=input(\"enter your password :\")\n",
    "if(password==\"india@123\"):\n",
    "    print(\"your password is correct\")\n",
    "else:\n",
    "    print(\"please enter the correct password\")"
   ]
  },
  {
   "cell_type": "code",
   "execution_count": 5,
   "id": "727c8086",
   "metadata": {},
   "outputs": [
    {
     "name": "stdout",
     "output_type": "stream",
     "text": [
      "enter any numb :55\n",
      "the numb is positive\n"
     ]
    }
   ],
   "source": [
    "input_numb=int(input(\"enter any numb :\"))\n",
    "if input_numb>0:\n",
    "    print(\"the numb is positive\")\n",
    "elif input_numb<0:\n",
    "    print(\"the numb is negative\")\n",
    "else:\n",
    "    print(\"the numb is zero\")"
   ]
  },
  {
   "cell_type": "code",
   "execution_count": 7,
   "id": "0a56e7dd",
   "metadata": {},
   "outputs": [
    {
     "name": "stdout",
     "output_type": "stream",
     "text": [
      "your gender :male\n",
      "your age :26\n",
      "eligible\n"
     ]
    }
   ],
   "source": [
    "gender=input(\"your gender :\")\n",
    "age=int(input(\"your age :\"))\n",
    "if(gender==\"male\"):\n",
    "    if(age<21):\n",
    "        print(\"not-eligible\")\n",
    "    else:\n",
    "        print('eligible')\n",
    "else:\n",
    "    if(age<18):\n",
    "        print(\"not-eligible\")\n",
    "    else:\n",
    "        print(\"eligible\")"
   ]
  },
  {
   "cell_type": "code",
   "execution_count": 8,
   "id": "5188064a",
   "metadata": {},
   "outputs": [
    {
     "name": "stdout",
     "output_type": "stream",
     "text": [
      "subject1=45\n",
      "subject2=56\n",
      "subject3=68\n",
      "subject4=70\n",
      "subject5=75\n",
      "total: 314\n",
      "percentage: 62.8\n"
     ]
    }
   ],
   "source": [
    "sub1=int(input(\"subject1=\"))\n",
    "sub2=int(input(\"subject2=\"))\n",
    "sub3=int(input(\"subject3=\"))\n",
    "sub4=int(input(\"subject4=\"))\n",
    "sub5=int(input(\"subject5=\"))\n",
    "total=(sub1+sub2+sub3+sub4+sub5)\n",
    "percentage=total/5\n",
    "print(\"total:\",total)\n",
    "print(\"percentage:\",percentage)"
   ]
  },
  {
   "cell_type": "code",
   "execution_count": null,
   "id": "f25b9b28",
   "metadata": {},
   "outputs": [],
   "source": []
  }
 ],
 "metadata": {
  "kernelspec": {
   "display_name": "Python 3 (ipykernel)",
   "language": "python",
   "name": "python3"
  },
  "language_info": {
   "codemirror_mode": {
    "name": "ipython",
    "version": 3
   },
   "file_extension": ".py",
   "mimetype": "text/x-python",
   "name": "python",
   "nbconvert_exporter": "python",
   "pygments_lexer": "ipython3",
   "version": "3.11.5"
  }
 },
 "nbformat": 4,
 "nbformat_minor": 5
}
