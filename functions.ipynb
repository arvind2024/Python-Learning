{
 "cells": [
  {
   "cell_type": "code",
   "execution_count": 1,
   "id": "75643911",
   "metadata": {},
   "outputs": [],
   "source": [
    "def odd_even():\n",
    "    numb=int(input(\"enter your numb :\"))\n",
    "    if numb%2==0:\n",
    "        print(\"the given num is even\")\n",
    "    else:\n",
    "        print(\"the given num is odd\")"
   ]
  },
  {
   "cell_type": "code",
   "execution_count": 2,
   "id": "1f1f8183",
   "metadata": {},
   "outputs": [
    {
     "name": "stdout",
     "output_type": "stream",
     "text": [
      "enter your numb :56\n",
      "the given num is even\n"
     ]
    }
   ],
   "source": [
    "odd_even()"
   ]
  },
  {
   "cell_type": "code",
   "execution_count": 20,
   "id": "8409c25d",
   "metadata": {},
   "outputs": [],
   "source": [
    "def gender():\n",
    "    gender=input(\"your gender :\")\n",
    "    age=int(input(\"your age :\"))\n",
    "    if(gender==\"male\"):\n",
    "        if(age<21):\n",
    "            print(\"not-eligible\")\n",
    "        else:\n",
    "            print('eligible')\n",
    "    else:\n",
    "        if(age<18):\n",
    "            print(\"not-eligible\")\n",
    "        else:\n",
    "            print(\"eligible\")"
   ]
  },
  {
   "cell_type": "code",
   "execution_count": 21,
   "id": "756d9d27",
   "metadata": {},
   "outputs": [
    {
     "name": "stdout",
     "output_type": "stream",
     "text": [
      "your gender :male\n",
      "your age :23\n",
      "eligible\n"
     ]
    }
   ],
   "source": [
    " gender()"
   ]
  },
  {
   "cell_type": "code",
   "execution_count": 22,
   "id": "21d0d084",
   "metadata": {},
   "outputs": [],
   "source": [
    "def sub():\n",
    "    sub1=int(input(\"subject1=\"))\n",
    "    sub2=int(input(\"subject2=\"))\n",
    "    sub3=int(input(\"subject3=\"))\n",
    "    sub4=int(input(\"subject4=\"))\n",
    "    sub5=int(input(\"subject5=\"))\n",
    "    total=(sub1+sub2+sub3+sub4+sub5)\n",
    "    percentage=total/5\n",
    "    print(\"total:\",total)\n",
    "    print(\"percentage:\",percentage)"
   ]
  },
  {
   "cell_type": "code",
   "execution_count": 23,
   "id": "7f225a6e",
   "metadata": {},
   "outputs": [
    {
     "name": "stdout",
     "output_type": "stream",
     "text": [
      "subject1=55\n",
      "subject2=66\n",
      "subject3=76\n",
      "subject4=35\n",
      "subject5=67\n",
      "total: 299\n",
      "percentage: 59.8\n"
     ]
    }
   ],
   "source": [
    "sub()"
   ]
  },
  {
   "cell_type": "code",
   "execution_count": 24,
   "id": "91e86b25",
   "metadata": {},
   "outputs": [],
   "source": [
    "def age():\n",
    "    age=int(input(\"enter your age =\"))\n",
    "    if(0<age<12):\n",
    "        print(\"child\")\n",
    "    elif(13<age<18):\n",
    "        print(\"adult\")\n",
    "    elif(19<age<25):\n",
    "        print(\"man or woman\")\n",
    "    elif(26<age<50):\n",
    "        print(\"citizen\")\n",
    "    else:\n",
    "        print(\"senior citizen\")"
   ]
  },
  {
   "cell_type": "code",
   "execution_count": 25,
   "id": "79240675",
   "metadata": {},
   "outputs": [
    {
     "name": "stdout",
     "output_type": "stream",
     "text": [
      "enter your age =25\n",
      "senior citizen\n"
     ]
    }
   ],
   "source": [
    "age()"
   ]
  },
  {
   "cell_type": "code",
   "execution_count": 26,
   "id": "5bc80b7c",
   "metadata": {},
   "outputs": [],
   "source": [
    "def bmi_value():\n",
    "    Bmi_value =float(input(\"enter the BMI index:\"))\n",
    "    if(18.5>Bmi_value):\n",
    "        print(\"under weight\")\n",
    "    elif(18.5<=Bmi_value<=24.9):\n",
    "        print(\"normal\")\n",
    "    elif(25<=Bmivalue<=29.9):\n",
    "        print(\"over weight\")\n",
    "    elif(30<=Bmi_value<=34.9):\n",
    "        print(\"obisity class1\")\n",
    "    elif(35<=Bmi_value<=39.9):\n",
    "        print(\"obisity class 2\")\n",
    "    else:\n",
    "        print(\"obisity class 3\")"
   ]
  },
  {
   "cell_type": "code",
   "execution_count": 27,
   "id": "7f574404",
   "metadata": {},
   "outputs": [
    {
     "name": "stdout",
     "output_type": "stream",
     "text": [
      "enter the BMI index:20\n",
      "normal\n"
     ]
    }
   ],
   "source": [
    "bmi_value()"
   ]
  },
  {
   "cell_type": "code",
   "execution_count": null,
   "id": "051f91f1",
   "metadata": {},
   "outputs": [],
   "source": []
  }
 ],
 "metadata": {
  "kernelspec": {
   "display_name": "Python 3 (ipykernel)",
   "language": "python",
   "name": "python3"
  },
  "language_info": {
   "codemirror_mode": {
    "name": "ipython",
    "version": 3
   },
   "file_extension": ".py",
   "mimetype": "text/x-python",
   "name": "python",
   "nbconvert_exporter": "python",
   "pygments_lexer": "ipython3",
   "version": "3.11.5"
  }
 },
 "nbformat": 4,
 "nbformat_minor": 5
}
