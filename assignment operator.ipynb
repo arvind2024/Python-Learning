{
 "cells": [
  {
   "cell_type": "code",
   "execution_count": 1,
   "id": "1ba77675",
   "metadata": {},
   "outputs": [],
   "source": [
    "#Assignment operator"
   ]
  },
  {
   "cell_type": "code",
   "execution_count": 2,
   "id": "568d6f75",
   "metadata": {},
   "outputs": [
    {
     "name": "stdout",
     "output_type": "stream",
     "text": [
      "13\n"
     ]
    }
   ],
   "source": [
    "number1=8\n",
    "number2=5\n",
    "print(number1+number2)"
   ]
  },
  {
   "cell_type": "code",
   "execution_count": 4,
   "id": "81081239",
   "metadata": {},
   "outputs": [
    {
     "name": "stdout",
     "output_type": "stream",
     "text": [
      "arvind\n"
     ]
    }
   ],
   "source": [
    "name=\"arvind\"\n",
    "print(name)"
   ]
  },
  {
   "cell_type": "code",
   "execution_count": 5,
   "id": "73bd833d",
   "metadata": {},
   "outputs": [
    {
     "name": "stdout",
     "output_type": "stream",
     "text": [
      "5.3\n"
     ]
    }
   ],
   "source": [
    "f=1.9\n",
    "d=3.4\n",
    "print(f+d)"
   ]
  },
  {
   "cell_type": "code",
   "execution_count": 6,
   "id": "1e9779b3",
   "metadata": {},
   "outputs": [
    {
     "name": "stdout",
     "output_type": "stream",
     "text": [
      "13\n"
     ]
    }
   ],
   "source": [
    "add=number1+number2\n",
    "print(add)"
   ]
  },
  {
   "cell_type": "code",
   "execution_count": 7,
   "id": "0f68b448",
   "metadata": {},
   "outputs": [
    {
     "name": "stdout",
     "output_type": "stream",
     "text": [
      "add\n"
     ]
    }
   ],
   "source": [
    "print(\"add\")"
   ]
  },
  {
   "cell_type": "code",
   "execution_count": 10,
   "id": "f777ef00",
   "metadata": {},
   "outputs": [
    {
     "name": "stdout",
     "output_type": "stream",
     "text": [
      "ka\n"
     ]
    }
   ],
   "source": [
    "first_name=\"ka\"\n",
    "print(first_name)"
   ]
  },
  {
   "cell_type": "markdown",
   "id": "5df74673",
   "metadata": {},
   "source": [
    "The addition of two numbers\n",
    "The number1:30\n",
    "The number2:70\n",
    "The answer is:100"
   ]
  },
  {
   "cell_type": "code",
   "execution_count": 12,
   "id": "f0e8e131",
   "metadata": {},
   "outputs": [
    {
     "name": "stdout",
     "output_type": "stream",
     "text": [
      "The addition of two number\n",
      "The number1: 8\n",
      "The number2: 5\n",
      "The answer is: 13\n"
     ]
    }
   ],
   "source": [
    "number1:8\n",
    "number2:5\n",
    "add=number1+number2\n",
    "print(\"The addition of two number\")\n",
    "print(\"The number1:\",number1)\n",
    "print(\"The number2:\",number2)\n",
    "print(\"The answer is:\",add)"
   ]
  },
  {
   "cell_type": "code",
   "execution_count": null,
   "id": "df571373",
   "metadata": {},
   "outputs": [],
   "source": []
  }
 ],
 "metadata": {
  "kernelspec": {
   "display_name": "Python 3 (ipykernel)",
   "language": "python",
   "name": "python3"
  },
  "language_info": {
   "codemirror_mode": {
    "name": "ipython",
    "version": 3
   },
   "file_extension": ".py",
   "mimetype": "text/x-python",
   "name": "python",
   "nbconvert_exporter": "python",
   "pygments_lexer": "ipython3",
   "version": "3.11.5"
  }
 },
 "nbformat": 4,
 "nbformat_minor": 5
}
