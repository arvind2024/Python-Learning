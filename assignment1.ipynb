{
 "cells": [
  {
   "cell_type": "code",
   "execution_count": 1,
   "id": "745d7567",
   "metadata": {},
   "outputs": [],
   "source": [
    "#assignment1"
   ]
  },
  {
   "cell_type": "code",
   "execution_count": 24,
   "id": "3ba3eb31",
   "metadata": {},
   "outputs": [
    {
     "name": "stdout",
     "output_type": "stream",
     "text": [
      "enter tht bmi index:30\n"
     ]
    },
    {
     "ename": "NameError",
     "evalue": "name 'bmi_value' is not defined",
     "output_type": "error",
     "traceback": [
      "\u001b[1;31m---------------------------------------------------------------------------\u001b[0m",
      "\u001b[1;31mNameError\u001b[0m                                 Traceback (most recent call last)",
      "Cell \u001b[1;32mIn[24], line 2\u001b[0m\n\u001b[0;32m      1\u001b[0m bmi_vaiue\u001b[38;5;241m=\u001b[39m\u001b[38;5;28mfloat\u001b[39m(\u001b[38;5;28minput\u001b[39m(\u001b[38;5;124m\"\u001b[39m\u001b[38;5;124menter tht bmi index:\u001b[39m\u001b[38;5;124m\"\u001b[39m))\n\u001b[1;32m----> 2\u001b[0m \u001b[38;5;28;01mif\u001b[39;00m(\u001b[38;5;241m18.4\u001b[39m\u001b[38;5;241m>\u001b[39mbmi_value):\n\u001b[0;32m      3\u001b[0m     \u001b[38;5;28mprint\u001b[39m(\u001b[38;5;124m\"\u001b[39m\u001b[38;5;124munder weight\u001b[39m\u001b[38;5;124m\"\u001b[39m)\n\u001b[0;32m      4\u001b[0m \u001b[38;5;28;01melif\u001b[39;00m(\u001b[38;5;241m18.4\u001b[39m\u001b[38;5;241m<\u001b[39m\u001b[38;5;241m=\u001b[39mbmi_value\u001b[38;5;241m<\u001b[39m\u001b[38;5;241m=\u001b[39m\u001b[38;5;241m25.6\u001b[39m):\n",
      "\u001b[1;31mNameError\u001b[0m: name 'bmi_value' is not defined"
     ]
    }
   ],
   "source": [
    "bmi_vaiue=float(input(\"enter tht bmi index:\"))\n",
    "if(18.4>bmi_value):\n",
    "    print(\"under weight\")\n",
    "elif(18.4<=bmi_value<=25.6):\n",
    "    print(\"normal\")\n",
    "elif(25<=bmi_value<=29.9):\n",
    "    print(\"over weight\")\n",
    "elif(30<=bmi_value<=34.9):\n",
    "    print(\"very over weight/obisity class 1\")\n",
    "elif(35<=bmivalue<=39.9):\n",
    "    print(\"obibity class 2\")\n",
    "else:\n",
    "    print(\"obisity class 3\")"
   ]
  },
  {
   "cell_type": "code",
   "execution_count": null,
   "id": "c97b9d2f",
   "metadata": {},
   "outputs": [],
   "source": []
  }
 ],
 "metadata": {
  "kernelspec": {
   "display_name": "Python 3 (ipykernel)",
   "language": "python",
   "name": "python3"
  },
  "language_info": {
   "codemirror_mode": {
    "name": "ipython",
    "version": 3
   },
   "file_extension": ".py",
   "mimetype": "text/x-python",
   "name": "python",
   "nbconvert_exporter": "python",
   "pygments_lexer": "ipython3",
   "version": "3.11.5"
  }
 },
 "nbformat": 4,
 "nbformat_minor": 5
}
