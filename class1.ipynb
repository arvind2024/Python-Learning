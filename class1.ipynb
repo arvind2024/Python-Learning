{
 "cells": [
  {
   "cell_type": "code",
   "execution_count": 2,
   "id": "8ef2c1c4",
   "metadata": {},
   "outputs": [],
   "source": [
    "class even_odd():\n",
    "    def odd_even():\n",
    "        numb=int(input(\"enter your numb :\"))\n",
    "        if numb%2==0:\n",
    "            print(\"the given num is even\")\n",
    "        else:\n",
    "            print(\"the given num is odd\")"
   ]
  },
  {
   "cell_type": "code",
   "execution_count": 3,
   "id": "54fd6cb0",
   "metadata": {},
   "outputs": [
    {
     "name": "stdout",
     "output_type": "stream",
     "text": [
      "enter your numb :44\n",
      "the given num is even\n"
     ]
    }
   ],
   "source": [
    "even_odd.odd_even()"
   ]
  },
  {
   "cell_type": "code",
   "execution_count": 2,
   "id": "1a5d7a7f",
   "metadata": {},
   "outputs": [],
   "source": [
    "class gender():\n",
    "    def gender():\n",
    "        gender=input(\"your gender :\")\n",
    "        age=int(input(\"your age :\"))\n",
    "        if(gender==\"male\"):\n",
    "            if(age<21):\n",
    "                print(\"not-eligible\")\n",
    "            else:\n",
    "                print('eligible')\n",
    "        else:\n",
    "            if(age<18):\n",
    "                print(\"not-eligible\")\n",
    "            else:\n",
    "                print(\"eligible\")"
   ]
  },
  {
   "cell_type": "code",
   "execution_count": 3,
   "id": "84cee607",
   "metadata": {},
   "outputs": [
    {
     "name": "stdout",
     "output_type": "stream",
     "text": [
      "your gender :male\n",
      "your age :23\n",
      "eligible\n"
     ]
    }
   ],
   "source": [
    "gender. gender()"
   ]
  },
  {
   "cell_type": "code",
   "execution_count": 4,
   "id": "75fec99b",
   "metadata": {},
   "outputs": [],
   "source": [
    "class sub():\n",
    "    def sub():\n",
    "        sub1=int(input(\"subject1=\"))\n",
    "        sub2=int(input(\"subject2=\"))\n",
    "        sub3=int(input(\"subject3=\"))\n",
    "        sub4=int(input(\"subject4=\"))\n",
    "        sub5=int(input(\"subject5=\"))\n",
    "        total=(sub1+sub2+sub3+sub4+sub5)\n",
    "        percentage=total/5\n",
    "        print(\"total:\",total)\n",
    "        print(\"percentage:\",percentage)"
   ]
  },
  {
   "cell_type": "code",
   "execution_count": 5,
   "id": "980524ba",
   "metadata": {},
   "outputs": [
    {
     "name": "stdout",
     "output_type": "stream",
     "text": [
      "subject1=49\n",
      "subject2=59\n",
      "subject3=78\n",
      "subject4=88\n",
      "subject5=98\n",
      "total: 372\n",
      "percentage: 74.4\n"
     ]
    }
   ],
   "source": [
    "sub.sub()"
   ]
  },
  {
   "cell_type": "code",
   "execution_count": 6,
   "id": "637b97e9",
   "metadata": {},
   "outputs": [],
   "source": [
    "class age():\n",
    "    def age():\n",
    "        age=int(input(\"enter your age =\"))\n",
    "        if(0<age<12):\n",
    "            print(\"child\")\n",
    "        elif(13<age<18):\n",
    "            print(\"adult\")\n",
    "        elif(19<age<25):\n",
    "            print(\"man or woman\")\n",
    "        elif(26<age<50):\n",
    "            print(\"citizen\")\n",
    "        else:\n",
    "            print(\"senior citizen\")"
   ]
  },
  {
   "cell_type": "code",
   "execution_count": 7,
   "id": "5b885a4a",
   "metadata": {},
   "outputs": [
    {
     "name": "stdout",
     "output_type": "stream",
     "text": [
      "enter your age =32\n",
      "citizen\n"
     ]
    }
   ],
   "source": [
    "age.age()"
   ]
  },
  {
   "cell_type": "code",
   "execution_count": 8,
   "id": "ac597175",
   "metadata": {},
   "outputs": [],
   "source": [
    "class Bmi_value():\n",
    "    def  Bmi_value():\n",
    "        Bmi_value =float(input(\"enter the BMI index:\"))\n",
    "        if(18.5>Bmi_value):\n",
    "            print(\"under weight\")\n",
    "        elif(18.5<=Bmi_value<=24.9):\n",
    "            print(\"normal\")\n",
    "        elif(25<=Bmivalue<=29.9):\n",
    "            print(\"over weight\")\n",
    "        elif(30<=Bmi_value<=34.9):\n",
    "            print(\"obisity class1\")\n",
    "        elif(35<=Bmi_value<=39.9):\n",
    "            print(\"obisity class 2\")\n",
    "        else:\n",
    "            print(\"obisity class 3\")"
   ]
  },
  {
   "cell_type": "code",
   "execution_count": 9,
   "id": "fb493e89",
   "metadata": {},
   "outputs": [
    {
     "name": "stdout",
     "output_type": "stream",
     "text": [
      "enter the BMI index:18\n",
      "under weight\n"
     ]
    }
   ],
   "source": [
    " Bmi_value.Bmi_value()"
   ]
  },
  {
   "cell_type": "code",
   "execution_count": null,
   "id": "14cff61a",
   "metadata": {},
   "outputs": [],
   "source": []
  }
 ],
 "metadata": {
  "kernelspec": {
   "display_name": "Python 3 (ipykernel)",
   "language": "python",
   "name": "python3"
  },
  "language_info": {
   "codemirror_mode": {
    "name": "ipython",
    "version": 3
   },
   "file_extension": ".py",
   "mimetype": "text/x-python",
   "name": "python",
   "nbconvert_exporter": "python",
   "pygments_lexer": "ipython3",
   "version": "3.11.5"
  }
 },
 "nbformat": 4,
 "nbformat_minor": 5
}
