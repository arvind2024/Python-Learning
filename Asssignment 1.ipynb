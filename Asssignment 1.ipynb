{
 "cells": [
  {
   "cell_type": "code",
   "execution_count": 2,
   "id": "836f7365",
   "metadata": {},
   "outputs": [],
   "source": [
    "#Assignment 1"
   ]
  },
  {
   "cell_type": "code",
   "execution_count": 3,
   "id": "acc03b98",
   "metadata": {},
   "outputs": [
    {
     "name": "stdout",
     "output_type": "stream",
     "text": [
      "welcom to assignent1\n"
     ]
    }
   ],
   "source": [
    "question1:print(\"welcom to assignent1\")"
   ]
  },
  {
   "cell_type": "code",
   "execution_count": 7,
   "id": "0bd6fb26",
   "metadata": {},
   "outputs": [
    {
     "ename": "IndentationError",
     "evalue": "unexpected indent (1305628999.py, line 2)",
     "output_type": "error",
     "traceback": [
      "\u001b[1;36m  Cell \u001b[1;32mIn[7], line 2\u001b[1;36m\u001b[0m\n\u001b[1;33m    numb2=30\u001b[0m\n\u001b[1;37m    ^\u001b[0m\n\u001b[1;31mIndentationError\u001b[0m\u001b[1;31m:\u001b[0m unexpected indent\n"
     ]
    }
   ],
   "source": [
    "question2:numb2=10\n",
    "          numb2=30\n",
    "add=numb1+numb2\n",
    "    print(add)"
   ]
  },
  {
   "cell_type": "code",
   "execution_count": null,
   "id": "f400ff6e",
   "metadata": {},
   "outputs": [],
   "source": []
  }
 ],
 "metadata": {
  "kernelspec": {
   "display_name": "Python 3 (ipykernel)",
   "language": "python",
   "name": "python3"
  },
  "language_info": {
   "codemirror_mode": {
    "name": "ipython",
    "version": 3
   },
   "file_extension": ".py",
   "mimetype": "text/x-python",
   "name": "python",
   "nbconvert_exporter": "python",
   "pygments_lexer": "ipython3",
   "version": "3.11.5"
  }
 },
 "nbformat": 4,
 "nbformat_minor": 5
}
